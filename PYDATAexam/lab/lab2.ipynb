{
 "cells": [
  {
   "cell_type": "code",
   "execution_count": 1,
   "id": "ca0cd441-472c-47d3-b792-d3c45aa96bfb",
   "metadata": {},
   "outputs": [
    {
     "name": "stdout",
     "output_type": "stream",
     "text": [
      "HTML의 링크 태그\n"
     ]
    }
   ],
   "source": [
    "import requests\n",
    "from bs4 import BeautifulSoup\n",
    "\n",
    "r = requests.get('http://unico2013.dothome.co.kr/crawling/exercise_bs.html')\n",
    "r.encoding = 'utf-8'\n",
    "bs = BeautifulSoup(r.text, 'html.parser')\n",
    "print(bs.find('h1').text)"
   ]
  },
  {
   "cell_type": "code",
   "execution_count": 3,
   "id": "1c09f976-37db-4227-a1d6-70d0ba385054",
   "metadata": {},
   "outputs": [
    {
     "name": "stdout",
     "output_type": "stream",
     "text": [
      "World Wide Consortium : http://www.w3.org/\n",
      "Java Page : http://java.sun.com/\n",
      "Python Page : http://www.python.org/\n",
      "Web Client 기술 학습 : http://www.w3schools.com/\n"
     ]
    }
   ],
   "source": [
    "a = bs.find_all('a')\n",
    "for i in a:\n",
    "    if len(i.text) > 1:\n",
    "        print(i.text, ':', i['href'])"
   ]
  },
  {
   "cell_type": "code",
   "execution_count": 4,
   "id": "666d7322-3cea-46e2-99e7-3c1d4ec3e376",
   "metadata": {},
   "outputs": [
    {
     "name": "stdout",
     "output_type": "stream",
     "text": [
      "http://unico2013.dothome.co.kr/image/duke.jpg\n"
     ]
    }
   ],
   "source": [
    "img = bs.find('img')\n",
    "print(img['src'])"
   ]
  },
  {
   "cell_type": "code",
   "execution_count": 5,
   "id": "ca3688a0-7e52-4913-b164-ed488446cce7",
   "metadata": {},
   "outputs": [
    {
     "name": "stdout",
     "output_type": "stream",
     "text": [
      "좋아하는 색\n"
     ]
    }
   ],
   "source": [
    "h2 = bs.find_all('h2')\n",
    "print(h2[0].text)"
   ]
  },
  {
   "cell_type": "code",
   "execution_count": 6,
   "id": "f80928a0-947c-4bcd-abaf-04e494fdeb94",
   "metadata": {},
   "outputs": [
    {
     "name": "stdout",
     "output_type": "stream",
     "text": [
      "녹색\n"
     ]
    }
   ],
   "source": [
    "import re\n",
    "green = bs.find_all(style=re.compile('green$'))\n",
    "for i in green:\n",
    "    print(i.text)"
   ]
  },
  {
   "cell_type": "code",
   "execution_count": 7,
   "id": "1febf5ad-4bf9-4333-be41-677e830859e9",
   "metadata": {},
   "outputs": [
    {
     "name": "stdout",
     "output_type": "stream",
     "text": [
      "먹고싶은 음식\n"
     ]
    }
   ],
   "source": [
    "print(h2[1].text)"
   ]
  },
  {
   "cell_type": "code",
   "execution_count": 8,
   "id": "f108a988-1eed-40c4-b490-122be8853385",
   "metadata": {},
   "outputs": [
    {
     "name": "stdout",
     "output_type": "stream",
     "text": [
      "\n",
      "짜장면\n",
      "냉면\n",
      "돈까스\n",
      "갈비\n",
      "\n"
     ]
    }
   ],
   "source": [
    "ol = bs.find_all('ol')\n",
    "for content in ol:\n",
    "    print(content.text)"
   ]
  },
  {
   "cell_type": "code",
   "execution_count": 9,
   "id": "48e3d547-d9e2-4ba2-9d3f-e03e802a5f47",
   "metadata": {},
   "outputs": [
    {
     "name": "stdout",
     "output_type": "stream",
     "text": [
      "\n",
      "둘리또치도우너\n",
      "케라토사우루스타조외계인\n",
      "도봉구 쌍문동아프리카깐따삐아 별\n",
      "\n"
     ]
    }
   ],
   "source": [
    "table = bs.find_all('table')\n",
    "for content in table:\n",
    "    print(content.text)"
   ]
  },
  {
   "cell_type": "code",
   "execution_count": 10,
   "id": "9e5b1a11-9318-41cc-a8a0-31a57084b4ed",
   "metadata": {},
   "outputs": [
    {
     "name": "stdout",
     "output_type": "stream",
     "text": [
      "둘리또치도우너\n"
     ]
    }
   ],
   "source": [
    "tr = bs.find_all('tr', class_='name')\n",
    "for content in tr:\n",
    "    print(content.text)"
   ]
  },
  {
   "cell_type": "code",
   "execution_count": 129,
   "id": "abd3829c-d235-4873-851b-ff5814a3fa8f",
   "metadata": {},
   "outputs": [
    {
     "name": "stdout",
     "output_type": "stream",
     "text": [
      "아프리카\n"
     ]
    }
   ],
   "source": [
    "td = bs.find_all('td', id='target')\n",
    "for content in td:\n",
    "    print(content.text)"
   ]
  }
 ],
 "metadata": {
  "kernelspec": {
   "display_name": "pydatavenv",
   "language": "python",
   "name": "pydatavenv"
  },
  "language_info": {
   "codemirror_mode": {
    "name": "ipython",
    "version": 3
   },
   "file_extension": ".py",
   "mimetype": "text/x-python",
   "name": "python",
   "nbconvert_exporter": "python",
   "pygments_lexer": "ipython3",
   "version": "3.8.11"
  }
 },
 "nbformat": 4,
 "nbformat_minor": 5
}
