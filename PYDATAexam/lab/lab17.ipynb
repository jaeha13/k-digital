{
 "cells": [
  {
   "cell_type": "code",
   "execution_count": 1,
   "id": "d083949b-1c51-4b89-ad5a-d79a49f101bf",
   "metadata": {},
   "outputs": [
    {
     "name": "stderr",
     "output_type": "stream",
     "text": [
      "C:\\Users\\hajae\\AppData\\Local\\Temp/ipykernel_17280/1942901927.py:3: FutureWarning: The pandas.datetime class is deprecated and will be removed from pandas in a future version. Import from datetime module instead.\n",
      "  today = pd.datetime.today()\n"
     ]
    }
   ],
   "source": [
    "import pandas as pd\n",
    "\n",
    "today = pd.datetime.today()"
   ]
  },
  {
   "cell_type": "code",
   "execution_count": 2,
   "id": "d8aa3238-dcfd-4141-a344-1ccb91d6f751",
   "metadata": {},
   "outputs": [
    {
     "name": "stdout",
     "output_type": "stream",
     "text": [
      "DatetimeIndex(['2021-10-07 16:45:15.361312', '2021-10-08 16:45:15.361312',\n",
      "               '2021-10-09 16:45:15.361312', '2021-10-10 16:45:15.361312',\n",
      "               '2021-10-11 16:45:15.361312', '2021-10-12 16:45:15.361312',\n",
      "               '2021-10-13 16:45:15.361312', '2021-10-14 16:45:15.361312',\n",
      "               '2021-10-15 16:45:15.361312', '2021-10-16 16:45:15.361312',\n",
      "               '2021-10-17 16:45:15.361312', '2021-10-18 16:45:15.361312',\n",
      "               '2021-10-19 16:45:15.361312', '2021-10-20 16:45:15.361312',\n",
      "               '2021-10-21 16:45:15.361312', '2021-10-22 16:45:15.361312',\n",
      "               '2021-10-23 16:45:15.361312', '2021-10-24 16:45:15.361312',\n",
      "               '2021-10-25 16:45:15.361312', '2021-10-26 16:45:15.361312'],\n",
      "              dtype='datetime64[ns]', freq='D')\n"
     ]
    }
   ],
   "source": [
    "dt = pd.date_range(start=today, end='20211027', freq='D')\n",
    "print(dt)"
   ]
  },
  {
   "cell_type": "code",
   "execution_count": 3,
   "id": "8abb21f4-9fa1-4e24-88d1-3abfd10ee072",
   "metadata": {},
   "outputs": [
    {
     "name": "stdout",
     "output_type": "stream",
     "text": [
      "DatetimeIndex(['2021-10-07 16:45:15.361312', '2021-10-08 16:45:15.361312',\n",
      "               '2021-10-09 16:45:15.361312', '2021-10-10 16:45:15.361312',\n",
      "               '2021-10-11 16:45:15.361312', '2021-10-12 16:45:15.361312',\n",
      "               '2021-10-13 16:45:15.361312', '2021-10-14 16:45:15.361312',\n",
      "               '2021-10-15 16:45:15.361312', '2021-10-16 16:45:15.361312',\n",
      "               '2021-10-17 16:45:15.361312', '2021-10-18 16:45:15.361312',\n",
      "               '2021-10-19 16:45:15.361312', '2021-10-20 16:45:15.361312',\n",
      "               '2021-10-21 16:45:15.361312', '2021-10-22 16:45:15.361312',\n",
      "               '2021-10-23 16:45:15.361312', '2021-10-24 16:45:15.361312',\n",
      "               '2021-10-25 16:45:15.361312', '2021-10-26 16:45:15.361312',\n",
      "               '2021-10-27 16:45:15.361312', '2021-10-28 16:45:15.361312',\n",
      "               '2021-10-29 16:45:15.361312', '2021-10-30 16:45:15.361312',\n",
      "               '2021-10-31 16:45:15.361312', '2021-11-01 16:45:15.361312',\n",
      "               '2021-11-02 16:45:15.361312', '2021-11-03 16:45:15.361312',\n",
      "               '2021-11-04 16:45:15.361312', '2021-11-05 16:45:15.361312',\n",
      "               '2021-11-06 16:45:15.361312', '2021-11-07 16:45:15.361312',\n",
      "               '2021-11-08 16:45:15.361312', '2021-11-09 16:45:15.361312',\n",
      "               '2021-11-10 16:45:15.361312', '2021-11-11 16:45:15.361312',\n",
      "               '2021-11-12 16:45:15.361312', '2021-11-13 16:45:15.361312',\n",
      "               '2021-11-14 16:45:15.361312', '2021-11-15 16:45:15.361312',\n",
      "               '2021-11-16 16:45:15.361312', '2021-11-17 16:45:15.361312',\n",
      "               '2021-11-18 16:45:15.361312', '2021-11-19 16:45:15.361312',\n",
      "               '2021-11-20 16:45:15.361312', '2021-11-21 16:45:15.361312',\n",
      "               '2021-11-22 16:45:15.361312', '2021-11-23 16:45:15.361312',\n",
      "               '2021-11-24 16:45:15.361312', '2021-11-25 16:45:15.361312',\n",
      "               '2021-11-26 16:45:15.361312', '2021-11-27 16:45:15.361312',\n",
      "               '2021-11-28 16:45:15.361312', '2021-11-29 16:45:15.361312',\n",
      "               '2021-11-30 16:45:15.361312', '2021-12-01 16:45:15.361312',\n",
      "               '2021-12-02 16:45:15.361312', '2021-12-03 16:45:15.361312',\n",
      "               '2021-12-04 16:45:15.361312', '2021-12-05 16:45:15.361312',\n",
      "               '2021-12-06 16:45:15.361312'],\n",
      "              dtype='datetime64[ns]', freq='D')\n"
     ]
    }
   ],
   "source": [
    "dt1 = pd.date_range(start=today, periods=61, freq='D')\n",
    "print(dt1)"
   ]
  },
  {
   "cell_type": "code",
   "execution_count": 4,
   "id": "b1ec539b-d648-41c5-bd23-c74b94396d45",
   "metadata": {},
   "outputs": [
    {
     "name": "stdout",
     "output_type": "stream",
     "text": [
      "DatetimeIndex(['2021-01-31', '2021-02-28', '2021-03-31', '2021-04-30',\n",
      "               '2021-05-31', '2021-06-30', '2021-07-31', '2021-08-31',\n",
      "               '2021-09-30', '2021-10-31', '2021-11-30', '2021-12-31'],\n",
      "              dtype='datetime64[ns]', freq='M')\n"
     ]
    }
   ],
   "source": [
    "dt2 = pd.date_range('20210101', periods=12, freq='M')\n",
    "print(dt2)"
   ]
  },
  {
   "cell_type": "code",
   "execution_count": 5,
   "id": "72452529-5acd-48c5-b30c-4637f0015605",
   "metadata": {},
   "outputs": [
    {
     "name": "stdout",
     "output_type": "stream",
     "text": [
      "DatetimeIndex(['2021-01-01', '2021-02-01', '2021-03-01', '2021-04-01',\n",
      "               '2021-05-01', '2021-06-01', '2021-07-01', '2021-08-01',\n",
      "               '2021-09-01', '2021-10-01', '2021-11-01', '2021-12-01'],\n",
      "              dtype='datetime64[ns]', freq='MS')\n"
     ]
    }
   ],
   "source": [
    "dt3 = pd.date_range('20210101', periods=12, freq='MS')\n",
    "print(dt3)"
   ]
  },
  {
   "cell_type": "code",
   "execution_count": 6,
   "id": "e9e007bc-82bb-49f7-b7b3-2a477ac2cdb0",
   "metadata": {},
   "outputs": [
    {
     "name": "stdout",
     "output_type": "stream",
     "text": [
      "DatetimeIndex(['2021-10-06 00:00:00', '2021-10-06 01:00:00',\n",
      "               '2021-10-06 02:00:00', '2021-10-06 03:00:00',\n",
      "               '2021-10-06 04:00:00', '2021-10-06 05:00:00',\n",
      "               '2021-10-06 06:00:00', '2021-10-06 07:00:00',\n",
      "               '2021-10-06 08:00:00', '2021-10-06 09:00:00',\n",
      "               ...\n",
      "               '2021-10-10 14:00:00', '2021-10-10 15:00:00',\n",
      "               '2021-10-10 16:00:00', '2021-10-10 17:00:00',\n",
      "               '2021-10-10 18:00:00', '2021-10-10 19:00:00',\n",
      "               '2021-10-10 20:00:00', '2021-10-10 21:00:00',\n",
      "               '2021-10-10 22:00:00', '2021-10-10 23:00:00'],\n",
      "              dtype='datetime64[ns]', length=120, freq='H')\n"
     ]
    }
   ],
   "source": [
    "dt4 = pd.date_range(start='20211006', end='202110102359', freq='H')\n",
    "print(dt4)"
   ]
  },
  {
   "cell_type": "code",
   "execution_count": 7,
   "id": "d1f775c4-7c6b-4f31-8a55-f80a8e1efc27",
   "metadata": {},
   "outputs": [
    {
     "name": "stdout",
     "output_type": "stream",
     "text": [
      "DatetimeIndex(['2021-10-06 00:00:00', '2021-10-06 03:00:00',\n",
      "               '2021-10-06 06:00:00', '2021-10-06 09:00:00',\n",
      "               '2021-10-06 12:00:00', '2021-10-06 15:00:00',\n",
      "               '2021-10-06 18:00:00', '2021-10-06 21:00:00',\n",
      "               '2021-10-07 00:00:00', '2021-10-07 03:00:00',\n",
      "               ...\n",
      "               '2021-10-26 15:00:00', '2021-10-26 18:00:00',\n",
      "               '2021-10-26 21:00:00', '2021-10-27 00:00:00',\n",
      "               '2021-10-27 03:00:00', '2021-10-27 06:00:00',\n",
      "               '2021-10-27 09:00:00', '2021-10-27 12:00:00',\n",
      "               '2021-10-27 15:00:00', '2021-10-27 18:00:00'],\n",
      "              dtype='datetime64[ns]', length=175, freq='3H')\n"
     ]
    }
   ],
   "source": [
    "dt5 = pd.date_range('20211006', '202110271800', freq='3H')\n",
    "print(dt5)"
   ]
  },
  {
   "cell_type": "code",
   "execution_count": 8,
   "id": "4833637a-1c14-4699-9ba3-465f2fc4c0d0",
   "metadata": {},
   "outputs": [
    {
     "name": "stdout",
     "output_type": "stream",
     "text": [
      "DatetimeIndex(['2021-01-31', '2021-03-31', '2021-05-31', '2021-07-31',\n",
      "               '2021-09-30', '2021-11-30', '2022-01-31', '2022-03-31'],\n",
      "              dtype='datetime64[ns]', freq='2M')\n"
     ]
    }
   ],
   "source": [
    "dt6 = pd.date_range('20210101', periods=8, freq='2M')\n",
    "print(dt6)"
   ]
  },
  {
   "cell_type": "code",
   "execution_count": 9,
   "id": "23891114-fec4-4929-9a2a-d477c26b9476",
   "metadata": {},
   "outputs": [
    {
     "ename": "NameError",
     "evalue": "name 'df' is not defined",
     "output_type": "error",
     "traceback": [
      "\u001b[1;31m---------------------------------------------------------------------------\u001b[0m",
      "\u001b[1;31mNameError\u001b[0m                                 Traceback (most recent call last)",
      "\u001b[1;32m~\\AppData\\Local\\Temp/ipykernel_17280/3483702520.py\u001b[0m in \u001b[0;36m<module>\u001b[1;34m\u001b[0m\n\u001b[0;32m      1\u001b[0m \u001b[0mclick\u001b[0m \u001b[1;33m=\u001b[0m \u001b[0mpd\u001b[0m\u001b[1;33m.\u001b[0m\u001b[0mread_csv\u001b[0m\u001b[1;33m(\u001b[0m\u001b[1;34m'../data/product_click.log'\u001b[0m\u001b[1;33m,\u001b[0m \u001b[0mheader\u001b[0m\u001b[1;33m=\u001b[0m\u001b[1;32mNone\u001b[0m\u001b[1;33m,\u001b[0m \u001b[0msep\u001b[0m\u001b[1;33m=\u001b[0m\u001b[1;34m' '\u001b[0m\u001b[1;33m,\u001b[0m \u001b[0mdtype\u001b[0m\u001b[1;33m=\u001b[0m\u001b[0mstr\u001b[0m\u001b[1;33m)\u001b[0m\u001b[1;33m\u001b[0m\u001b[1;33m\u001b[0m\u001b[0m\n\u001b[0;32m      2\u001b[0m \u001b[0mclick\u001b[0m\u001b[1;33m.\u001b[0m\u001b[0mcolumns\u001b[0m \u001b[1;33m=\u001b[0m \u001b[1;33m[\u001b[0m\u001b[1;34m'oldclicktime'\u001b[0m\u001b[1;33m,\u001b[0m \u001b[1;34m'clickpid'\u001b[0m\u001b[1;33m]\u001b[0m\u001b[1;33m\u001b[0m\u001b[1;33m\u001b[0m\u001b[0m\n\u001b[1;32m----> 3\u001b[1;33m \u001b[0mclick\u001b[0m\u001b[1;33m[\u001b[0m\u001b[1;34m'newclicktime'\u001b[0m\u001b[1;33m]\u001b[0m \u001b[1;33m=\u001b[0m \u001b[0mpd\u001b[0m\u001b[1;33m.\u001b[0m\u001b[0mto_datetime\u001b[0m\u001b[1;33m(\u001b[0m\u001b[0mdf\u001b[0m\u001b[1;33m.\u001b[0m\u001b[0moldclicktime\u001b[0m\u001b[1;33m)\u001b[0m\u001b[1;33m\u001b[0m\u001b[1;33m\u001b[0m\u001b[0m\n\u001b[0m\u001b[0;32m      4\u001b[0m \u001b[0mprint\u001b[0m\u001b[1;33m(\u001b[0m\u001b[0mclick\u001b[0m\u001b[1;33m.\u001b[0m\u001b[0minfo\u001b[0m\u001b[1;33m(\u001b[0m\u001b[1;33m)\u001b[0m\u001b[1;33m)\u001b[0m\u001b[1;33m\u001b[0m\u001b[1;33m\u001b[0m\u001b[0m\n\u001b[0;32m      5\u001b[0m \u001b[0mdisplay\u001b[0m\u001b[1;33m(\u001b[0m\u001b[0mclick\u001b[0m\u001b[1;33m.\u001b[0m\u001b[0mhead\u001b[0m\u001b[1;33m(\u001b[0m\u001b[1;33m)\u001b[0m\u001b[1;33m)\u001b[0m\u001b[1;33m\u001b[0m\u001b[1;33m\u001b[0m\u001b[0m\n",
      "\u001b[1;31mNameError\u001b[0m: name 'df' is not defined"
     ]
    }
   ],
   "source": [
    "click = pd.read_csv('../data/product_click.log', header=None, sep=' ', dtype=str)\n",
    "click.columns = ['oldclicktime', 'clickpid']\n",
    "click['newclicktime'] = pd.to_datetime(df.oldclicktime)\n",
    "print(click.info())\n",
    "display(click.head())"
   ]
  },
  {
   "cell_type": "code",
   "execution_count": null,
   "id": "3f147d33-db05-499a-b816-ca2ee8460ef3",
   "metadata": {},
   "outputs": [],
   "source": [
    "click['year'] = click.newclicktime.dt.year\n",
    "click['month'] = click.newclicktime.dt.month\n",
    "click['day'] = click.newclicktime.dt.day\n",
    "click['hour'] = click.newclicktime.dt.hour\n",
    "click['minute'] = click.newclicktime.dt.minute\n",
    "print(click.info())\n",
    "display(click.head())"
   ]
  }
 ],
 "metadata": {
  "kernelspec": {
   "display_name": "pydatavenv",
   "language": "python",
   "name": "pydatavenv"
  },
  "language_info": {
   "codemirror_mode": {
    "name": "ipython",
    "version": 3
   },
   "file_extension": ".py",
   "mimetype": "text/x-python",
   "name": "python",
   "nbconvert_exporter": "python",
   "pygments_lexer": "ipython3",
   "version": "3.8.11"
  }
 },
 "nbformat": 4,
 "nbformat_minor": 5
}
