{
 "cells": [
  {
   "cell_type": "code",
   "execution_count": 36,
   "id": "3f2f9600-0c15-4118-a834-e6e87340babd",
   "metadata": {},
   "outputs": [
    {
     "name": "stdout",
     "output_type": "stream",
     "text": [
      "[짜장면에 대한 네이버 지역 정보(XML)]\n",
      "1 : 란주라미엔,서울특별시 중구 충무로1가 25-9\n",
      "2 : 개화,서울특별시 중구 명동2가 107-1\n",
      "3 : 원흥,서울특별시 중구 다동 92\n",
      "4 : 일품향,서울특별시 중구 명동2가 105\n",
      "5 : 더 플라자 도원,서울특별시 중구 태평로2가 23\n",
      "\n",
      "[쌀국수에 대한 네이버 지역 정보(JSON)]\n",
      "1 : 포하노이,서울특별시 종로구 청진동 70 B1\n",
      "2 : 호아빈 서울시청점,서울특별시 중구 서소문동 14-2\n",
      "3 : 반포식스 광화문점,서울특별시 종로구 신문로1가 7-5 2층\n",
      "4 : 사이공,서울특별시 종로구 종로1가 24\n",
      "5 : 레호이 소월길 본점,서울특별시 용산구 이태원동  261-9\n"
     ]
    }
   ],
   "source": [
    "import urllib.request as req\n",
    "from bs4 import BeautifulSoup\n",
    "import json\n",
    "\n",
    "def naver_search(keyword, callType = 'JSON'):\n",
    "    client_key = 'izGsqP2exeThwwEUVU3x'\n",
    "    client_secret = 'WrwbQ1l6ZI'\n",
    "    encText = urllib.parse.quote_plus(keyword)\n",
    "    num = 5\n",
    "    naver_url = 'https://openapi.naver.com/v1/search/local.' + callType.lower() + '?query=' + encText + '&display=' + str(num)\n",
    "    \n",
    "    request = req.Request(naver_url)\n",
    "    request.add_header(\"X-Naver-Client-Id\",client_key)\n",
    "    request.add_header(\"X-Naver-Client-Secret\",client_secret)\n",
    "    response = req.urlopen(request)\n",
    "    rescode = response.getcode()\n",
    "    if(rescode == 200):\n",
    "        response_body = response.read()\n",
    "        count = 1\n",
    "        print('[' + keyword + '에 대한 네이버 지역 정보(' + callType + ')]')\n",
    "        if callType == 'JSON':\n",
    "            dataList = json.loads(response_body)\n",
    "            for data in dataList['items']:\n",
    "                print (str(count) + ' : ' + data['title'] + ',' + data['address'])\n",
    "                count += 1\n",
    "        else:\n",
    "            dataList = BeautifulSoup(response_body, features=\"xml\")\n",
    "            for data in dataList.find_all('item'):\n",
    "                print (str(count) + ' : ' + data.find('title').string + ',' + data.find('address').string)\n",
    "                count += 1\n",
    "    else:\n",
    "        print('오류 코드 : ' + rescode)\n",
    "\n",
    "\n",
    "naver_search('짜장면', 'XML')\n",
    "print()\n",
    "naver_search('쌀국수')"
   ]
  }
 ],
 "metadata": {
  "kernelspec": {
   "display_name": "pydatavenv",
   "language": "python",
   "name": "pydatavenv"
  },
  "language_info": {
   "codemirror_mode": {
    "name": "ipython",
    "version": 3
   },
   "file_extension": ".py",
   "mimetype": "text/x-python",
   "name": "python",
   "nbconvert_exporter": "python",
   "pygments_lexer": "ipython3",
   "version": "3.8.11"
  }
 },
 "nbformat": 4,
 "nbformat_minor": 5
}
