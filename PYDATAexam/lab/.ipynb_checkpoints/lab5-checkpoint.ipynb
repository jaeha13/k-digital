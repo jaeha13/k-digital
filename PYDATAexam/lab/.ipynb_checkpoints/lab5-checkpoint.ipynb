{
 "cells": [
  {
   "cell_type": "code",
   "execution_count": 2,
   "id": "e485770f-caa8-42bf-963e-d33e126881a5",
   "metadata": {},
   "outputs": [],
   "source": [
    "from selenium import webdriver\n",
    "from selenium.webdriver.common.keys import Keys\n",
    "\n",
    "driver = webdriver.Chrome('C:/Temp/Chromedriver')\n",
    "driver.get('http://www.naver.com/')"
   ]
  },
  {
   "cell_type": "code",
   "execution_count": 5,
   "id": "84caf1de-e889-4772-842d-39b22bca262c",
   "metadata": {},
   "outputs": [],
   "source": [
    "target=driver.find_element_by_css_selector(\"[name = 'query']\")\n",
    "target.send_keys('파이썬')\n",
    "# target.send_keys(Keys.ENTER)"
   ]
  },
  {
   "cell_type": "code",
   "execution_count": 6,
   "id": "3efa4e4d-762c-435f-ae47-1bc4dbff537e",
   "metadata": {},
   "outputs": [],
   "source": [
    "target=driver.find_element_by_id(\"query\")\n",
    "target.send_keys('파이썬')\n",
    "#target.send_keys(Keys.ENTER)"
   ]
  },
  {
   "cell_type": "code",
   "execution_count": 7,
   "id": "aa3be8a2-c66e-4dcf-9615-ca6d866d952e",
   "metadata": {},
   "outputs": [],
   "source": [
    "target=driver.find_element_by_class_name('input_text')\n",
    "target.send_keys('파이썬')\n",
    "#target.send_keys(Keys.ENTER)"
   ]
  }
 ],
 "metadata": {
  "kernelspec": {
   "display_name": "pydatavenv",
   "language": "python",
   "name": "pydatavenv"
  },
  "language_info": {
   "codemirror_mode": {
    "name": "ipython",
    "version": 3
   },
   "file_extension": ".py",
   "mimetype": "text/x-python",
   "name": "python",
   "nbconvert_exporter": "python",
   "pygments_lexer": "ipython3",
   "version": "3.8.11"
  }
 },
 "nbformat": 4,
 "nbformat_minor": 5
}
