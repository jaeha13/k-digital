{
 "cells": [
  {
   "cell_type": "code",
   "execution_count": 32,
   "id": "842c0b29-7d07-4ecb-a9dd-e563bdb41695",
   "metadata": {},
   "outputs": [],
   "source": [
    "from selenium import webdriver\n",
    "\n",
    "driver = webdriver.Chrome('C:/Temp/chromedriver')\n",
    "driver.implicitly_wait(3) \n",
    "\n",
    "driver.get(\"https://www.megabox.co.kr/movie-detail/comment?rpstMovieNo=21033000\")"
   ]
  },
  {
   "cell_type": "code",
   "execution_count": 34,
   "id": "e82c78bf-ee2c-4e0f-874d-4235c5836e53",
   "metadata": {},
   "outputs": [],
   "source": [
    "import time\n",
    "time.sleep(2)\n",
    "\n",
    "temp_list = [['score', 'genre', 'review']]\n",
    "time.sleep(3)\n",
    "for i in range(3):\n",
    "    for j in range(1, 11):\n",
    "        score = driver.find_elements_by_css_selector(\"#contentData > div > div.movie-idv-story > ul > li > div.story-area > div.story-box > div > div.story-cont > div.story-point > span\")\n",
    "        genre = driver.find_elements_by_css_selector(\"#contentData > div > div.movie-idv-story > ul > li > div.story-area > div.story-box > div > div.story-cont > div.story-recommend > em\")\n",
    "        review = driver.find_elements_by_css_selector(\"#contentData > div > div.movie-idv-story > ul > li > div.story-area > div.story-box > div > div.story-cont > div.story-txt\")\n",
    "        for s, g, r in zip(score, genre, review):\n",
    "            temp_list.append([s.text, g.text, r.text])\n",
    "        if j != 10:\n",
    "            driver.find_element_by_css_selector(\"#contentData > div > div.movie-idv-story > nav > a:nth-child(\" + str(j + 1) + \")\")\n",
    "        else:\n",
    "            next_b = driver.find_element_by_css_selector(\"#contentData > div > div.movie-idv-story > nav > a.control.next\")\n",
    "\n",
    "with open('../output/movie.csv', \"wt\", encoding=\"utf-8\") as f:\n",
    "    for item in temp_list:\n",
    "        f.write(str(item[0]) + ',' + str(item[1]) + ',' + str(item[2]) + '\\n')\n",
    "\n",
    "driver.quit()"
   ]
  }
 ],
 "metadata": {
  "kernelspec": {
   "display_name": "pydatavenv",
   "language": "python",
   "name": "pydatavenv"
  },
  "language_info": {
   "codemirror_mode": {
    "name": "ipython",
    "version": 3
   },
   "file_extension": ".py",
   "mimetype": "text/x-python",
   "name": "python",
   "nbconvert_exporter": "python",
   "pygments_lexer": "ipython3",
   "version": "3.8.11"
  }
 },
 "nbformat": 4,
 "nbformat_minor": 5
}
