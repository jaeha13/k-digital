{
 "cells": [
  {
   "cell_type": "code",
   "execution_count": 9,
   "id": "e8d32fec-541f-466d-b1ba-d4fa28f86634",
   "metadata": {},
   "outputs": [
    {
     "name": "stdout",
     "output_type": "stream",
     "text": [
      "  name  kor  eng  mat class\n",
      "0   둘리   90   99   90    1반\n",
      "1   또치   80   98   70    2반\n",
      "2  도우너   70   97   70    1반\n",
      "3  희동이   70   46   60    2반\n"
     ]
    }
   ],
   "source": [
    "import pandas as pd\n",
    "\n",
    "data = {'name' : ['둘리', '또치', '도우너', '희동이'],\n",
    "        'kor' : [90, 80, 70, 70],\n",
    "        'eng' : [99, 98, 97, 46],\n",
    "        'mat' : [90, 70, 70, 60]\n",
    "       }\n",
    "\n",
    "df = pd.DataFrame(data)\n",
    "df['class'] = [str(i) + '반' for _ in range(2) for i in [1, 2]]\n",
    "print(df)"
   ]
  },
  {
   "cell_type": "code",
   "execution_count": 10,
   "id": "b6f4d90d-e828-4cca-abab-029ca14cf8df",
   "metadata": {},
   "outputs": [
    {
     "name": "stdout",
     "output_type": "stream",
     "text": [
      "  name  kor  eng  mat class\n",
      "0   둘리   90   99   90    1반\n",
      "1   또치   80   98   70    2반\n",
      "2  도우너   70   97   70    1반\n",
      "3  희동이   70   46   60    2반\n",
      "4  마이콜   80   80   80    1반\n"
     ]
    }
   ],
   "source": [
    "df.loc[4] = ['마이콜', 80, 80, 80, '1반']\n",
    "print(df)"
   ]
  },
  {
   "cell_type": "code",
   "execution_count": 11,
   "id": "851b33a9-2dd1-4d66-88f6-e92bcf2384fd",
   "metadata": {},
   "outputs": [
    {
     "name": "stdout",
     "output_type": "stream",
     "text": [
      "      국어  영어  수학 반번호\n",
      "name                \n",
      "둘리    90  99  90  1반\n",
      "또치    80  98  70  2반\n",
      "도우너   70  97  70  1반\n",
      "희동이   70  46  60  2반\n",
      "마이콜   80  80  80  1반\n"
     ]
    }
   ],
   "source": [
    "df.set_index('name', inplace=True)\n",
    "df.rename(columns={'kor':'국어', 'eng':'영어', 'mat':'수학', 'class':'반번호'}, inplace=True)\n",
    "print(df)"
   ]
  },
  {
   "cell_type": "code",
   "execution_count": 12,
   "id": "6eb6fdd4-4b8a-491d-9142-c046d61b67dc",
   "metadata": {},
   "outputs": [
    {
     "name": "stdout",
     "output_type": "stream",
     "text": [
      "       국어   영어   수학 반번호\n",
      "name                   \n",
      "둘리     90   99   90  1반\n",
      "또치     80   98   70  2반\n",
      "도우너    70   97   70  1반\n",
      "희동이    70   90   60  2반\n",
      "마이콜   100  100  100  1반\n"
     ]
    }
   ],
   "source": [
    "df.loc['마이콜', ['국어', '영어', '수학']] = 100, 100, 100\n",
    "df.loc['희동이', '영어'] = 90\n",
    "print(df)"
   ]
  },
  {
   "cell_type": "code",
   "execution_count": 13,
   "id": "ccd52233-5a9f-4953-8734-c9d3651dc7c2",
   "metadata": {},
   "outputs": [
    {
     "name": "stdout",
     "output_type": "stream",
     "text": [
      "  name   국어   영어   수학 반번호\n",
      "0   둘리   90   99   90  1반\n",
      "1   또치   80   98   70  2반\n",
      "2  도우너   70   97   70  1반\n",
      "3  희동이   70   90   60  2반\n",
      "4  마이콜  100  100  100  1반\n",
      "    성명   국어   영어   수학 반번호\n",
      "0   둘리   90   99   90  1반\n",
      "1   또치   80   98   70  2반\n",
      "2  도우너   70   97   70  1반\n",
      "3  희동이   70   90   60  2반\n",
      "4  마이콜  100  100  100  1반\n"
     ]
    }
   ],
   "source": [
    "df.reset_index(inplace=True)\n",
    "print(df)\n",
    "df.rename(columns={'name':'성명'}, inplace=True)\n",
    "print(df)"
   ]
  },
  {
   "cell_type": "code",
   "execution_count": 14,
   "id": "232676e0-6e89-4070-9fc2-8b0469d29532",
   "metadata": {},
   "outputs": [
    {
     "name": "stdout",
     "output_type": "stream",
     "text": [
      "    성명   국어   영어   수학 반번호\n",
      "4  마이콜  100  100  100  1반\n",
      "0   둘리   90   99   90  1반\n",
      "1   또치   80   98   70  2반\n",
      "2  도우너   70   97   70  1반\n",
      "3  희동이   70   90   60  2반 \n",
      "     성명   국어   영어   수학 반번호\n",
      "3  희동이   70   90   60  2반\n",
      "2  도우너   70   97   70  1반\n",
      "1   또치   80   98   70  2반\n",
      "0   둘리   90   99   90  1반\n",
      "4  마이콜  100  100  100  1반\n"
     ]
    }
   ],
   "source": [
    "df1=df.sort_values(by='국어', ascending=False)\n",
    "df2=df.sort_values(by='영어')\n",
    "print(df1, '\\n', df2)"
   ]
  },
  {
   "cell_type": "code",
   "execution_count": 20,
   "id": "3cdfd043-eeec-43e6-960e-fb37a9274724",
   "metadata": {},
   "outputs": [
    {
     "name": "stdout",
     "output_type": "stream",
     "text": [
      "    성명   국어   영어   수학 반번호   총점\n",
      "0   둘리   90   99   90  1반  279\n",
      "1   또치   80   98   70  2반  248\n",
      "2  도우너   70   97   70  1반  237\n",
      "3  희동이   70   90   60  2반  220\n",
      "4  마이콜  100  100  100  1반  300\n"
     ]
    }
   ],
   "source": [
    "df['총점'] = df['국어'] + df['영어'] + df['수학']\n",
    "df.sort_values(by='총점', ascending=False)\n",
    "print(df)"
   ]
  },
  {
   "cell_type": "code",
   "execution_count": 16,
   "id": "e43cae0a-a339-45fa-b3b2-5a38313a11ad",
   "metadata": {},
   "outputs": [
    {
     "name": "stdout",
     "output_type": "stream",
     "text": [
      "    성명   국어   영어   수학   총점\n",
      "0   둘리   90   99   90  279\n",
      "1   또치   80   98   70  248\n",
      "2  도우너   70   97   70  237\n",
      "3  희동이   70   90   60  220\n",
      "4  마이콜  100  100  100  300 \n",
      "     성명   국어   영어   수학 반번호\n",
      "4  마이콜  100  100  100  1반\n",
      "0   둘리   90   99   90  1반\n",
      "1   또치   80   98   70  2반\n",
      "2  도우너   70   97   70  1반\n",
      "3  희동이   70   90   60  2반\n"
     ]
    }
   ],
   "source": [
    "df3=df.drop('반번호', axis=1)\n",
    "print(df3, '\\n', df1)"
   ]
  },
  {
   "cell_type": "code",
   "execution_count": 19,
   "id": "f5553feb-8b01-409d-9469-a8d7ac6fb359",
   "metadata": {},
   "outputs": [
    {
     "name": "stdout",
     "output_type": "stream",
     "text": [
      "    성명  국어  영어  수학 반번호   총점\n",
      "0   둘리  90  99  90  1반  279\n",
      "1   또치  80  98  70  2반  248\n",
      "2  도우너  70  97  70  1반  237\n",
      "3  희동이  70  90  60  2반  220 \n",
      "     성명   국어   영어   수학 반번호   총점\n",
      "0   둘리   90   99   90  1반  279\n",
      "1   또치   80   98   70  2반  248\n",
      "2  도우너   70   97   70  1반  237\n",
      "3  희동이   70   90   60  2반  220\n",
      "4  마이콜  100  100  100  1반  300\n"
     ]
    }
   ],
   "source": [
    "df4=df.drop(4, axis=0)\n",
    "print(df4, '\\n', df)"
   ]
  },
  {
   "cell_type": "code",
   "execution_count": null,
   "id": "004e9eb9-73dc-417a-9079-07e4136cbb61",
   "metadata": {},
   "outputs": [],
   "source": [
    "data1 = {'kor':90, 'mat':80}\n",
    "data2 = {'kor':90, 'eng':70}\n",
    "data3 = {'kor':90, 'eng':70, 'mat':80}\n",
    "series1 = pd.Series(data1)\n",
    "series2 = pd.Series(data2)\n",
    "series3 = pd.Series(data3)\n",
    "result = series1.add(series2.add(series3, fill_value=0), fill_value=0)\n",
    "print(result)\n"
   ]
  },
  {
   "cell_type": "code",
   "execution_count": null,
   "id": "dd6f5f0e-0561-493a-a805-36c7f10226d1",
   "metadata": {},
   "outputs": [],
   "source": [
    "data = {\n",
    "    'X1':[2.9, 2.4, 2, 2.3, 3.2],\n",
    "    'X2':[9.2, 8.7, 7.2, 8.5, 9.6],\n",
    "    'X3':[13.2, 11.5, 10.8, 12.3, 12.6],\n",
    "    'X4':[2, 3, 4, 3, 2]\n",
    "} \n",
    "df = pd.DataFrame(data, index=['Y1','Y2','Y3', 'Y4', 'Y5'])\n",
    "print(df)\n",
    "df.loc['Y6'] = [10, 20, 30, 40]\n",
    "print(df)\n",
    "df += 10\n",
    "print(df)\n",
    "df['total'] = df['X1'] + df['X2'] + df['X3'] + df['X4']\n",
    "print(df)\n",
    "print(df.transpose())"
   ]
  }
 ],
 "metadata": {
  "kernelspec": {
   "display_name": "pydatavenv",
   "language": "python",
   "name": "pydatavenv"
  },
  "language_info": {
   "codemirror_mode": {
    "name": "ipython",
    "version": 3
   },
   "file_extension": ".py",
   "mimetype": "text/x-python",
   "name": "python",
   "nbconvert_exporter": "python",
   "pygments_lexer": "ipython3",
   "version": "3.8.11"
  }
 },
 "nbformat": 4,
 "nbformat_minor": 5
}
