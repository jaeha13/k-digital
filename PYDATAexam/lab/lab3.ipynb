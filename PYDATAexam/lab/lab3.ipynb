{
 "cells": [
  {
   "cell_type": "code",
   "execution_count": 17,
   "id": "708cbeca-aad1-47ab-90a5-aea72bc2b2e9",
   "metadata": {},
   "outputs": [],
   "source": [
    "import requests\n",
    "from bs4 import BeautifulSoup\n",
    "\n",
    "req = requests.get('http://media.daum.net/ranking/popular/')\n",
    "html = req.content\n",
    "html = html.decode('utf-8')\n",
    "\n",
    "bs = BeautifulSoup(html, 'html.parser')\n",
    "newstitle = ['newstitle']\n",
    "newscomname = ['newscomname']\n",
    "\n",
    "titles = bs.select('#mArticle > div.rank_news > ul.list_news2 > li > div.cont_thumb > strong > a')\n",
    "\n",
    "for dom in titles:\n",
    "    newstitle.append(dom.text)\n",
    "\n",
    "comname = bs.select('#mArticle > div.rank_news > ul.list_news2 > li > div.cont_thumb > strong > span')\n",
    "for dom in comname:\n",
    "    newscomname.append(dom.text)\n",
    "\n",
    "with open('output/news.csv', \"wt\", encoding=\"utf-8\") as f:\n",
    "    for i in range(len(newstitle)):\n",
    "        f.write(newstitle[i] + \",\" + newscomname[i] + '\\n')  "
   ]
  }
 ],
 "metadata": {
  "kernelspec": {
   "display_name": "pydatavenv",
   "language": "python",
   "name": "pydatavenv"
  },
  "language_info": {
   "codemirror_mode": {
    "name": "ipython",
    "version": 3
   },
   "file_extension": ".py",
   "mimetype": "text/x-python",
   "name": "python",
   "nbconvert_exporter": "python",
   "pygments_lexer": "ipython3",
   "version": "3.8.11"
  }
 },
 "nbformat": 4,
 "nbformat_minor": 5
}
