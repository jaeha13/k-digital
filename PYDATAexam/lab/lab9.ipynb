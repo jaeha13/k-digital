{
 "cells": [
  {
   "cell_type": "code",
   "execution_count": 2,
   "id": "a28f7df1-e8d1-479f-9ccd-6d1d6eedd34f",
   "metadata": {},
   "outputs": [
    {
     "name": "stdout",
     "output_type": "stream",
     "text": [
      "<class 'pandas.core.series.Series'>\n",
      "0    10\n",
      "1    20\n",
      "2    30\n",
      "3    40\n",
      "4    50\n",
      "dtype: int64\n"
     ]
    }
   ],
   "source": [
    "import pandas as pd\n",
    "\n",
    "data = {0: 10, 1:20, 2:30, 3:40, 4:50}\n",
    "sr = pd.Series(data)\n",
    "\n",
    "print(type(sr))\n",
    "print(sr)"
   ]
  },
  {
   "cell_type": "code",
   "execution_count": 3,
   "id": "20b6a2f3-69a0-4777-8c69-2e1e3e48fdcc",
   "metadata": {},
   "outputs": [
    {
     "name": "stdout",
     "output_type": "stream",
     "text": [
      "<class 'pandas.core.series.Series'>\n",
      "a    1\n",
      "b    2\n",
      "c    3\n",
      "d    4\n",
      "e    5\n",
      "dtype: int64\n"
     ]
    }
   ],
   "source": [
    "data1 = {'a':1, 'b':2, 'c':3, 'd':4, 'e':5}\n",
    "sr1 = pd.Series(data1)\n",
    "\n",
    "print(type(sr1))\n",
    "print(sr1)"
   ]
  },
  {
   "cell_type": "code",
   "execution_count": 4,
   "id": "dc9c071f-7dde-4969-949e-109c4295c7dd",
   "metadata": {},
   "outputs": [
    {
     "name": "stdout",
     "output_type": "stream",
     "text": [
      "<class 'pandas.core.series.Series'>\n",
      "학생1     둘리\n",
      "학생2     또치\n",
      "학생3    도우너\n",
      "학생4    희동이\n",
      "학생5    마이콜\n",
      "dtype: object\n"
     ]
    },
    {
     "data": {
      "text/plain": [
       "학생1     둘리\n",
       "학생2     또치\n",
       "학생3    도우너\n",
       "학생4    희동이\n",
       "학생5    마이콜\n",
       "dtype: object"
      ]
     },
     "metadata": {},
     "output_type": "display_data"
    }
   ],
   "source": [
    "data2 = {'학생1':'둘리', \n",
    "         '학생2':'또치',\n",
    "         '학생3':'도우너',\n",
    "         '학생4':'희동이',\n",
    "         '학생5':'마이콜'}\n",
    "sr2 = pd.Series(data2)\n",
    "\n",
    "print(type(sr2))\n",
    "print(sr2)"
   ]
  },
  {
   "cell_type": "code",
   "execution_count": 8,
   "id": "a306f894-f8a1-4d9e-967c-003ba79f4298",
   "metadata": {},
   "outputs": [
    {
     "name": "stdout",
     "output_type": "stream",
     "text": [
      "<class 'pandas.core.series.Series'>\n",
      "학생1     둘리\n",
      "학생2     또치\n",
      "학생3    도우너\n",
      "학생4    희동이\n",
      "학생5    마이콜\n",
      "dtype: object\n"
     ]
    }
   ],
   "source": [
    "data_idx = []\n",
    "for i in range(1, 6):\n",
    "    data_idx.append('학생' + str(i))\n",
    "data_l = ['둘리', '또치', '도우너', '희동이', '마이콜']\n",
    "sr_l = pd.Series(data_l, index=data_idx)\n",
    "\n",
    "print(type(sr_l))\n",
    "print(sr_l)"
   ]
  },
  {
   "cell_type": "code",
   "execution_count": 9,
   "id": "5f7d9a54-3bf1-405d-850b-f270d4d9d8d0",
   "metadata": {},
   "outputs": [
    {
     "name": "stdout",
     "output_type": "stream",
     "text": [
      "[시리즈 sr 출력]\n",
      "A형     34.2\n",
      "B형     27.1\n",
      "O형     26.7\n",
      "AB형    11.5\n",
      "dtype: float64\n",
      "[시리즈 sr에서 인덱싱과 슬라이싱하여 출력(숫자인덱스 사용)]\n",
      "34.2\n",
      "11.5\n",
      "27.1\n",
      "B형     27.1\n",
      "O형     26.7\n",
      "AB형    11.5\n",
      "dtype: float64\n",
      "[시리즈 sr에서 인덱싱과 슬라이싱하여 출력(이름인덱스 사용)]\n",
      "34.2\n",
      "11.5\n",
      "27.1\n",
      "B형     27.1\n",
      "O형     26.7\n",
      "AB형    11.5\n",
      "dtype: float64\n",
      "[시리즈 sr의 크기 출력]\n",
      "4\n",
      "[시리즈 sr의 인덱스 출력]\n",
      "Index(['A형', 'B형', 'O형', 'AB형'], dtype='object')\n",
      "[34.2 27.1 26.7 11.5]\n"
     ]
    }
   ],
   "source": [
    "blood = ['A형', 'B형', 'O형', 'AB형']\n",
    "st = [34.2, 27.1, 26.7, 11.5]\n",
    "sr = pd.Series(st, index=blood)\n",
    "\n",
    "print('[시리즈 sr 출력]')\n",
    "print(sr)\n",
    "print('[시리즈 sr에서 인덱싱과 슬라이싱하여 출력(숫자인덱스 사용)]')\n",
    "for i in [0, 3, 1]:\n",
    "    print(sr[i])\n",
    "print(sr[1:4])\n",
    "print('[시리즈 sr에서 인덱싱과 슬라이싱하여 출력(이름인덱스 사용)]')\n",
    "for i in [blood[0], blood[3], blood[1]]:\n",
    "    print(sr[i])\n",
    "print(sr.loc['B형':'AB형'])\n",
    "print('[시리즈 sr의 크기 출력]')\n",
    "print(len(sr))\n",
    "print('[시리즈 sr의 인덱스 출력]')\n",
    "print(sr.index)\n",
    "print(sr.values)"
   ]
  },
  {
   "cell_type": "code",
   "execution_count": 5,
   "id": "08c2e6fd-49bd-4bbf-a11e-0f46a04e0bd1",
   "metadata": {},
   "outputs": [
    {
     "name": "stdout",
     "output_type": "stream",
     "text": [
      "  name  kor  eng  mat\n",
      "0   둘리   90   99   90\n",
      "1   또치   80   98   70\n",
      "2  도우너   70   97   70\n",
      "3  희동이   70   46   60\n"
     ]
    },
    {
     "data": {
      "text/html": [
       "<div>\n",
       "<style scoped>\n",
       "    .dataframe tbody tr th:only-of-type {\n",
       "        vertical-align: middle;\n",
       "    }\n",
       "\n",
       "    .dataframe tbody tr th {\n",
       "        vertical-align: top;\n",
       "    }\n",
       "\n",
       "    .dataframe thead th {\n",
       "        text-align: right;\n",
       "    }\n",
       "</style>\n",
       "<table border=\"1\" class=\"dataframe\">\n",
       "  <thead>\n",
       "    <tr style=\"text-align: right;\">\n",
       "      <th></th>\n",
       "      <th>name</th>\n",
       "      <th>kor</th>\n",
       "      <th>eng</th>\n",
       "      <th>mat</th>\n",
       "    </tr>\n",
       "  </thead>\n",
       "  <tbody>\n",
       "    <tr>\n",
       "      <th>0</th>\n",
       "      <td>둘리</td>\n",
       "      <td>90</td>\n",
       "      <td>99</td>\n",
       "      <td>90</td>\n",
       "    </tr>\n",
       "    <tr>\n",
       "      <th>1</th>\n",
       "      <td>또치</td>\n",
       "      <td>80</td>\n",
       "      <td>98</td>\n",
       "      <td>70</td>\n",
       "    </tr>\n",
       "    <tr>\n",
       "      <th>2</th>\n",
       "      <td>도우너</td>\n",
       "      <td>70</td>\n",
       "      <td>97</td>\n",
       "      <td>70</td>\n",
       "    </tr>\n",
       "    <tr>\n",
       "      <th>3</th>\n",
       "      <td>희동이</td>\n",
       "      <td>70</td>\n",
       "      <td>46</td>\n",
       "      <td>60</td>\n",
       "    </tr>\n",
       "  </tbody>\n",
       "</table>\n",
       "</div>"
      ],
      "text/plain": [
       "  name  kor  eng  mat\n",
       "0   둘리   90   99   90\n",
       "1   또치   80   98   70\n",
       "2  도우너   70   97   70\n",
       "3  희동이   70   46   60"
      ]
     },
     "metadata": {},
     "output_type": "display_data"
    }
   ],
   "source": [
    "data = {'name' : ['둘리', '또치', '도우너', '희동이'],\n",
    "        'kor' : [90, 80, 70, 70],\n",
    "        'eng' : [99, 98, 97, 46],\n",
    "        'mat' : [90, 70, 70, 60]\n",
    "       }\n",
    "\n",
    "df = pd.DataFrame(data)\n",
    "print(df)\n",
    "# display(df)"
   ]
  },
  {
   "cell_type": "code",
   "execution_count": 11,
   "id": "05fa2153-a81c-45bf-b58f-eeeb99717dd9",
   "metadata": {},
   "outputs": [
    {
     "name": "stdout",
     "output_type": "stream",
     "text": [
      "<class 'pandas.core.frame.DataFrame'>\n",
      "    name  kor  eng  mat\n",
      "학생1   둘리   90   99   90\n",
      "학생2   또치   80   98   70\n",
      "학생3  도우너   70   97   70\n",
      "학생4  희동이   70   46   60\n"
     ]
    }
   ],
   "source": [
    "rownames = []\n",
    "for i in range(4):\n",
    "    rownames.append('학생' + str(i + 1))\n",
    "\n",
    "df.index = rownames\n",
    "\n",
    "print(type(df))\n",
    "print(df)"
   ]
  },
  {
   "cell_type": "code",
   "execution_count": 12,
   "id": "397d6838-c0ae-460a-8fdf-e5406bb03d5b",
   "metadata": {},
   "outputs": [
    {
     "name": "stdout",
     "output_type": "stream",
     "text": [
      "    dooly  doochi  dounar  heedong\n",
      "st1    둘리      90      99       90\n",
      "st2    또치      80      98       70\n",
      "st3   도우너      70      97       70\n",
      "st4   희동이      70      46       60\n"
     ]
    }
   ],
   "source": [
    "rownames2 = []\n",
    "for i in range(4):\n",
    "    rownames2.append('st' + str(i + 1))\n",
    "df.index = rownames2\n",
    "df.columns = ['dooly', 'doochi', 'dounar', 'heedong']\n",
    "print(df)"
   ]
  },
  {
   "cell_type": "raw",
   "id": "d196b1f1-1456-48fd-9ef1-5daa776d3086",
   "metadata": {},
   "source": [
    "data = {\n",
    "    'name':['듀크' + str(i) for i in range(1, 8)],\n",
    "    'kor':[90, 80, 70, 70, 60, 70, 90],\n",
    "    'eng':[99, 98, 97, 46, 77, 56, 90],\n",
    "    'mat':[90, 70, 70, 60, 88, 99, 90]\n",
    "}\n",
    "df = pd.DataFrame(data)\n",
    "print(df.head(5))\n",
    "print(df.tail(5))\n",
    "print(df.columns)\n",
    "print(df['name'])\n",
    "print(df.eng)\n",
    "print(df[['kor', 'mat']])\n",
    "print('iloc 함수 사용 ----------------')\n",
    "print(df.iloc[3])\n",
    "print(df.iloc[0][0])\n",
    "print(df.iloc[3][2])\n",
    "print(df.iloc[2:4, 2])\n",
    "print(df.iloc[2:4, 2:4])\n",
    "print('loc 함수 사용 ----------------')\n",
    "print(df.loc[3])\n",
    "print(df.loc[0]['name'])\n",
    "print(df.loc[3]['eng'])\n",
    "print(df.loc[2:3,'eng'])\n",
    "print(df.loc[2:3, ['eng', 'mat']])"
   ]
  },
  {
   "cell_type": "code",
   "execution_count": 41,
   "id": "eb274f31-e84d-4371-8e9f-8b7a0a13f6a8",
   "metadata": {},
   "outputs": [
    {
     "name": "stdout",
     "output_type": "stream",
     "text": [
      "      kor  eng  mat\n",
      "name               \n",
      "듀크1    90   99   90\n",
      "듀크2    80   98   70\n",
      "듀크3    70   97   70\n",
      "듀크4    70   46   60\n",
      "듀크5    60   77   88\n",
      "듀크6    70   56   99\n",
      "듀크7    90   90   90\n"
     ]
    }
   ],
   "source": [
    "df.index = df.name\n",
    "df.drop('name', axis=1, inplace=True)\n",
    "print(df)"
   ]
  }
 ],
 "metadata": {
  "kernelspec": {
   "display_name": "pydatavenv",
   "language": "python",
   "name": "pydatavenv"
  },
  "language_info": {
   "codemirror_mode": {
    "name": "ipython",
    "version": 3
   },
   "file_extension": ".py",
   "mimetype": "text/x-python",
   "name": "python",
   "nbconvert_exporter": "python",
   "pygments_lexer": "ipython3",
   "version": "3.8.11"
  }
 },
 "nbformat": 4,
 "nbformat_minor": 5
}
