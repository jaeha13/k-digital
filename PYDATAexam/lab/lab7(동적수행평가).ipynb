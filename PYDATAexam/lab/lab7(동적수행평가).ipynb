{
 "cells": [
  {
   "cell_type": "code",
   "execution_count": 63,
   "id": "3d7e6ba8-ef2b-4eec-b1ec-6f02889fa238",
   "metadata": {},
   "outputs": [],
   "source": [
    "from selenium import webdriver\n",
    "\n",
    "driver = webdriver.Chrome('C:/Temp/chromedriver')\n",
    "\n",
    "driver.get('http://gs25.gsretail.com/gscvs/ko/products/event-goods')\n",
    "driver.implicitly_wait(3)"
   ]
  },
  {
   "cell_type": "code",
   "execution_count": 64,
   "id": "49f4a1f7-5bc3-477a-8038-527a358507ef",
   "metadata": {},
   "outputs": [],
   "source": [
    "import re, time\n",
    "\n",
    "section = driver.find_element_by_id('TWO_TO_ONE')\n",
    "section.click()\n",
    "time.sleep(2)\n",
    "\n",
    "goods = [['goodsname', 'goodsprice']]\n",
    "tempgoods = []\n",
    "while True:\n",
    "    goodsname = driver.find_elements_by_css_selector('#contents > div.cnt > div.cnt_section.mt50 > div > div > div:nth-child(5) > ul > li > div > p.tit')\n",
    "    goodsprice = driver.find_elements_by_css_selector('#contents > div.cnt > div.cnt_section.mt50 > div > div > div:nth-child(5) > ul > li > div > p.price > span')\n",
    "    time.sleep(1)\n",
    "    if goodsname == tempgoods:\n",
    "        break\n",
    "    for n, p in zip(goodsname, goodsprice):\n",
    "        goods.append([n.text, re.sub('원', '', (re.sub(',', '', p.text)))])\n",
    "    tempgoods = goodsname\n",
    "    n_b = driver.find_element_by_css_selector('#contents > div.cnt > div.cnt_section.mt50 > div > div > div:nth-child(5) > div > a.next')\n",
    "    time.sleep(1)\n",
    "    n_b.click()\n",
    "    time.sleep(1)\n",
    "    \n",
    "with open('../output/gs25_twotoone.csv', \"wt\", encoding=\"utf-8\") as f:\n",
    "    for item in goods:\n",
    "        f.write(str(item[0]) + ',' + str(item[1]) + '\\n')\n",
    "        \n",
    "\n",
    "driver.quit()"
   ]
  }
 ],
 "metadata": {
  "kernelspec": {
   "display_name": "pydatavenv",
   "language": "python",
   "name": "pydatavenv"
  },
  "language_info": {
   "codemirror_mode": {
    "name": "ipython",
    "version": 3
   },
   "file_extension": ".py",
   "mimetype": "text/x-python",
   "name": "python",
   "nbconvert_exporter": "python",
   "pygments_lexer": "ipython3",
   "version": "3.8.11"
  }
 },
 "nbformat": 4,
 "nbformat_minor": 5
}
